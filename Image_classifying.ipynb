{
  "nbformat": 4,
  "nbformat_minor": 0,
  "metadata": {
    "colab": {
      "name": "Image_classifying.ipynb",
      "provenance": [],
      "authorship_tag": "ABX9TyPMJEJKJ23pgu22A7kNGCEo",
      "include_colab_link": true
    },
    "kernelspec": {
      "name": "python3",
      "display_name": "Python 3"
    },
    "accelerator": "GPU",
    "widgets": {
      "application/vnd.jupyter.widget-state+json": {
        "242dcd92ef31444aad1f6302fc733ec0": {
          "model_module": "@jupyter-widgets/controls",
          "model_name": "HBoxModel",
          "state": {
            "_view_name": "HBoxView",
            "_dom_classes": [],
            "_model_name": "HBoxModel",
            "_view_module": "@jupyter-widgets/controls",
            "_model_module_version": "1.5.0",
            "_view_count": null,
            "_view_module_version": "1.5.0",
            "box_style": "",
            "layout": "IPY_MODEL_7791806833c4407eaef01a43c9363239",
            "_model_module": "@jupyter-widgets/controls",
            "children": [
              "IPY_MODEL_a677b4f993684ef28a9700ccae073ab4",
              "IPY_MODEL_4a39b1a6c8ed4b909a2a6befe2506b91"
            ]
          }
        },
        "7791806833c4407eaef01a43c9363239": {
          "model_module": "@jupyter-widgets/base",
          "model_name": "LayoutModel",
          "state": {
            "_view_name": "LayoutView",
            "grid_template_rows": null,
            "right": null,
            "justify_content": null,
            "_view_module": "@jupyter-widgets/base",
            "overflow": null,
            "_model_module_version": "1.2.0",
            "_view_count": null,
            "flex_flow": null,
            "width": null,
            "min_width": null,
            "border": null,
            "align_items": null,
            "bottom": null,
            "_model_module": "@jupyter-widgets/base",
            "top": null,
            "grid_column": null,
            "overflow_y": null,
            "overflow_x": null,
            "grid_auto_flow": null,
            "grid_area": null,
            "grid_template_columns": null,
            "flex": null,
            "_model_name": "LayoutModel",
            "justify_items": null,
            "grid_row": null,
            "max_height": null,
            "align_content": null,
            "visibility": null,
            "align_self": null,
            "height": null,
            "min_height": null,
            "padding": null,
            "grid_auto_rows": null,
            "grid_gap": null,
            "max_width": null,
            "order": null,
            "_view_module_version": "1.2.0",
            "grid_template_areas": null,
            "object_position": null,
            "object_fit": null,
            "grid_auto_columns": null,
            "margin": null,
            "display": null,
            "left": null
          }
        },
        "a677b4f993684ef28a9700ccae073ab4": {
          "model_module": "@jupyter-widgets/controls",
          "model_name": "FloatProgressModel",
          "state": {
            "_view_name": "ProgressView",
            "style": "IPY_MODEL_c30fb8fb8674410ab728882104b2b7f1",
            "_dom_classes": [],
            "description": "",
            "_model_name": "FloatProgressModel",
            "bar_style": "success",
            "max": 135107811,
            "_view_module": "@jupyter-widgets/controls",
            "_model_module_version": "1.5.0",
            "value": 135107811,
            "_view_count": null,
            "_view_module_version": "1.5.0",
            "orientation": "horizontal",
            "min": 0,
            "description_tooltip": null,
            "_model_module": "@jupyter-widgets/controls",
            "layout": "IPY_MODEL_96c141cd4964441ab960443f4d8f0149"
          }
        },
        "4a39b1a6c8ed4b909a2a6befe2506b91": {
          "model_module": "@jupyter-widgets/controls",
          "model_name": "HTMLModel",
          "state": {
            "_view_name": "HTMLView",
            "style": "IPY_MODEL_06fb08f8ba3d4422bba5af5830d04af1",
            "_dom_classes": [],
            "description": "",
            "_model_name": "HTMLModel",
            "placeholder": "​",
            "_view_module": "@jupyter-widgets/controls",
            "_model_module_version": "1.5.0",
            "value": " 135108608/? [00:08&lt;00:00, 15075594.04it/s]",
            "_view_count": null,
            "_view_module_version": "1.5.0",
            "description_tooltip": null,
            "_model_module": "@jupyter-widgets/controls",
            "layout": "IPY_MODEL_a05dae5ae5464c70ae13ad9047296ee5"
          }
        },
        "c30fb8fb8674410ab728882104b2b7f1": {
          "model_module": "@jupyter-widgets/controls",
          "model_name": "ProgressStyleModel",
          "state": {
            "_view_name": "StyleView",
            "_model_name": "ProgressStyleModel",
            "description_width": "initial",
            "_view_module": "@jupyter-widgets/base",
            "_model_module_version": "1.5.0",
            "_view_count": null,
            "_view_module_version": "1.2.0",
            "bar_color": null,
            "_model_module": "@jupyter-widgets/controls"
          }
        },
        "96c141cd4964441ab960443f4d8f0149": {
          "model_module": "@jupyter-widgets/base",
          "model_name": "LayoutModel",
          "state": {
            "_view_name": "LayoutView",
            "grid_template_rows": null,
            "right": null,
            "justify_content": null,
            "_view_module": "@jupyter-widgets/base",
            "overflow": null,
            "_model_module_version": "1.2.0",
            "_view_count": null,
            "flex_flow": null,
            "width": null,
            "min_width": null,
            "border": null,
            "align_items": null,
            "bottom": null,
            "_model_module": "@jupyter-widgets/base",
            "top": null,
            "grid_column": null,
            "overflow_y": null,
            "overflow_x": null,
            "grid_auto_flow": null,
            "grid_area": null,
            "grid_template_columns": null,
            "flex": null,
            "_model_name": "LayoutModel",
            "justify_items": null,
            "grid_row": null,
            "max_height": null,
            "align_content": null,
            "visibility": null,
            "align_self": null,
            "height": null,
            "min_height": null,
            "padding": null,
            "grid_auto_rows": null,
            "grid_gap": null,
            "max_width": null,
            "order": null,
            "_view_module_version": "1.2.0",
            "grid_template_areas": null,
            "object_position": null,
            "object_fit": null,
            "grid_auto_columns": null,
            "margin": null,
            "display": null,
            "left": null
          }
        },
        "06fb08f8ba3d4422bba5af5830d04af1": {
          "model_module": "@jupyter-widgets/controls",
          "model_name": "DescriptionStyleModel",
          "state": {
            "_view_name": "StyleView",
            "_model_name": "DescriptionStyleModel",
            "description_width": "",
            "_view_module": "@jupyter-widgets/base",
            "_model_module_version": "1.5.0",
            "_view_count": null,
            "_view_module_version": "1.2.0",
            "_model_module": "@jupyter-widgets/controls"
          }
        },
        "a05dae5ae5464c70ae13ad9047296ee5": {
          "model_module": "@jupyter-widgets/base",
          "model_name": "LayoutModel",
          "state": {
            "_view_name": "LayoutView",
            "grid_template_rows": null,
            "right": null,
            "justify_content": null,
            "_view_module": "@jupyter-widgets/base",
            "overflow": null,
            "_model_module_version": "1.2.0",
            "_view_count": null,
            "flex_flow": null,
            "width": null,
            "min_width": null,
            "border": null,
            "align_items": null,
            "bottom": null,
            "_model_module": "@jupyter-widgets/base",
            "top": null,
            "grid_column": null,
            "overflow_y": null,
            "overflow_x": null,
            "grid_auto_flow": null,
            "grid_area": null,
            "grid_template_columns": null,
            "flex": null,
            "_model_name": "LayoutModel",
            "justify_items": null,
            "grid_row": null,
            "max_height": null,
            "align_content": null,
            "visibility": null,
            "align_self": null,
            "height": null,
            "min_height": null,
            "padding": null,
            "grid_auto_rows": null,
            "grid_gap": null,
            "max_width": null,
            "order": null,
            "_view_module_version": "1.2.0",
            "grid_template_areas": null,
            "object_position": null,
            "object_fit": null,
            "grid_auto_columns": null,
            "margin": null,
            "display": null,
            "left": null
          }
        }
      }
    }
  },
  "cells": [
    {
      "cell_type": "markdown",
      "metadata": {
        "id": "view-in-github",
        "colab_type": "text"
      },
      "source": [
        "<a href=\"https://colab.research.google.com/github/Vikas12911/Image_classifying_using_Resnet9/blob/main/Image_classifying.ipynb\" target=\"_parent\"><img src=\"https://colab.research.google.com/assets/colab-badge.svg\" alt=\"Open In Colab\"/></a>"
      ]
    },
    {
      "cell_type": "code",
      "metadata": {
        "id": "IwXgScwkw_H0"
      },
      "source": [
        "import torch\n",
        "import os\n",
        "import numpy as np\n",
        "import torchvision \n",
        "import tarfile\n",
        "import torch.nn as nn\n",
        "import torch.nn.functional as F\n",
        "from torchvision.datasets.utils import download_url\n",
        "from torchvision.datasets import ImageFolder\n",
        "from torch.utils.data import DataLoader\n",
        "from torch.utils.data import random_split\n",
        "from torchvision.utils import make_grid\n",
        "import matplotlib.pyplot as plt\n",
        "import torchvision.transforms as tt"
      ],
      "execution_count": 1,
      "outputs": []
    },
    {
      "cell_type": "code",
      "metadata": {
        "colab": {
          "base_uri": "https://localhost:8080/",
          "height": 83,
          "referenced_widgets": [
            "242dcd92ef31444aad1f6302fc733ec0",
            "7791806833c4407eaef01a43c9363239",
            "a677b4f993684ef28a9700ccae073ab4",
            "4a39b1a6c8ed4b909a2a6befe2506b91",
            "c30fb8fb8674410ab728882104b2b7f1",
            "96c141cd4964441ab960443f4d8f0149",
            "06fb08f8ba3d4422bba5af5830d04af1",
            "a05dae5ae5464c70ae13ad9047296ee5"
          ]
        },
        "id": "RavyJSM-yDuN",
        "outputId": "711746dc-1e34-4001-c43d-fdf67527f8d9"
      },
      "source": [
        "# Download the datasets\n",
        "dataset_url = \"https://s3.amazonaws.com/fast-ai-imageclas/cifar10.tgz\"\n",
        "download_url(dataset_url,'.')"
      ],
      "execution_count": 2,
      "outputs": [
        {
          "output_type": "stream",
          "text": [
            "Downloading https://s3.amazonaws.com/fast-ai-imageclas/cifar10.tgz to ./cifar10.tgz\n"
          ],
          "name": "stdout"
        },
        {
          "output_type": "display_data",
          "data": {
            "application/vnd.jupyter.widget-view+json": {
              "model_id": "242dcd92ef31444aad1f6302fc733ec0",
              "version_minor": 0,
              "version_major": 2
            },
            "text/plain": [
              "HBox(children=(FloatProgress(value=0.0, max=135107811.0), HTML(value='')))"
            ]
          },
          "metadata": {
            "tags": []
          }
        },
        {
          "output_type": "stream",
          "text": [
            "\n"
          ],
          "name": "stdout"
        }
      ]
    },
    {
      "cell_type": "code",
      "metadata": {
        "id": "yqEEBh0bycSm"
      },
      "source": [
        "#Extract from archive\n",
        "with tarfile.open('./cifar10.tgz','r:gz') as tar:\n",
        "  tar.extractall(path='./data')"
      ],
      "execution_count": 3,
      "outputs": []
    },
    {
      "cell_type": "code",
      "metadata": {
        "colab": {
          "base_uri": "https://localhost:8080/"
        },
        "id": "mgIPc2Kby7F8",
        "outputId": "8c87170b-86b0-4870-a445-d4f188d4ad5c"
      },
      "source": [
        "# Look into the data directory\n",
        "data_dir='./data/cifar10'\n",
        "print(os.listdir(data_dir))\n",
        "classes=os.listdir(data_dir+'/train')\n",
        "print(classes)"
      ],
      "execution_count": 4,
      "outputs": [
        {
          "output_type": "stream",
          "text": [
            "['test', 'train']\n",
            "['truck', 'ship', 'bird', 'cat', 'horse', 'deer', 'airplane', 'dog', 'frog', 'automobile']\n"
          ],
          "name": "stdout"
        }
      ]
    },
    {
      "cell_type": "code",
      "metadata": {
        "id": "Tv4aG6JXzV0K"
      },
      "source": [
        "# Data transforms (normalization & dataaugmentation)\n",
        "stats = ((0.4914, 0.4822, 0.4465), (0.2023, 0.1994, 0.2010))\n",
        "train_tfms=tt.Compose([tt.RandomCrop(32,padding=4,padding_mode='reflect'),\n",
        "                       tt.RandomHorizontalFlip(),\n",
        "                       tt.ToTensor(),tt.Normalize(*stats,inplace=True)]\n",
        "                      )\n",
        "valid_tfms=tt.Compose([tt.ToTensor(),tt.Normalize(*stats)])"
      ],
      "execution_count": 5,
      "outputs": []
    },
    {
      "cell_type": "code",
      "metadata": {
        "id": "X1neqKJJ0qMl"
      },
      "source": [
        "# Pytorch datasets\n",
        "train_ds=ImageFolder(data_dir +'/train',train_tfms)\n",
        "valid_ds=ImageFolder(data_dir+'/test',valid_tfms)"
      ],
      "execution_count": 6,
      "outputs": []
    },
    {
      "cell_type": "code",
      "metadata": {
        "id": "IQYMlMv55Iyb"
      },
      "source": [
        "batch_size=400"
      ],
      "execution_count": 7,
      "outputs": []
    },
    {
      "cell_type": "code",
      "metadata": {
        "colab": {
          "base_uri": "https://localhost:8080/"
        },
        "id": "1pVMv0yV5UgJ",
        "outputId": "fa3a8690-298e-4ef8-ba74-30bbb718d2e8"
      },
      "source": [
        "# Pytorch data loader\n",
        "train_dl=DataLoader(train_ds,batch_size,shuffle=True,num_workers=4,pin_memory=True)\n",
        "valid_dl=DataLoader(valid_ds,batch_size,num_workers=4,pin_memory=True)"
      ],
      "execution_count": 8,
      "outputs": [
        {
          "output_type": "stream",
          "text": [
            "/usr/local/lib/python3.7/dist-packages/torch/utils/data/dataloader.py:477: UserWarning: This DataLoader will create 4 worker processes in total. Our suggested max number of worker in current system is 2, which is smaller than what this DataLoader is going to create. Please be aware that excessive worker creation might get DataLoader running slow or even freeze, lower the worker number to avoid potential slowness/freeze if necessary.\n",
            "  cpuset_checked))\n"
          ],
          "name": "stderr"
        }
      ]
    },
    {
      "cell_type": "code",
      "metadata": {
        "id": "XHhaEcJJEfI7"
      },
      "source": [
        "def get_default_device():\n",
        "  \"\"\"Pick GPU if avaliable,else CPU\"\"\"\n",
        "  if torch.cuda.is_available():\n",
        "    return torch.device('cuda')\n",
        "  else:\n",
        "    return torch.device('cpu')\n",
        "\n",
        "def to_device(data,device):\n",
        "  '''Move tensor(s) to chosen device'''\n",
        "  if isinstance(data,(list,tuple)):\n",
        "    return [to_device(x,device) for x in data]\n",
        "  return data.to(device,non_blocking=True)\n",
        "\n",
        "class DeviceDataLoader():\n",
        "  \"\"\"Wrap a dataloaderto move data to a device\"\"\"\n",
        "  def __init__(self,dl,device):\n",
        "    self.dl=dl\n",
        "    self.device=device\n",
        "\n",
        "  def __iter__(self):\n",
        "    \"\"\"Yield a batch of data after moving it to device\"\"\"\n",
        "    for b in self.dl:\n",
        "      yield to_device(b,self.device)\n",
        "  \n",
        "  def __len__(self):\n",
        "    \"\"\"Number of batches\"\"\"\n",
        "    return len(self.dl)\n",
        "    "
      ],
      "execution_count": 9,
      "outputs": []
    },
    {
      "cell_type": "code",
      "metadata": {
        "colab": {
          "base_uri": "https://localhost:8080/"
        },
        "id": "6_vOqn_EK2wL",
        "outputId": "0c1db1d4-ce48-41b7-9003-4d1c7f442051"
      },
      "source": [
        "device=get_default_device()\n",
        "device"
      ],
      "execution_count": 10,
      "outputs": [
        {
          "output_type": "execute_result",
          "data": {
            "text/plain": [
              "device(type='cuda')"
            ]
          },
          "metadata": {
            "tags": []
          },
          "execution_count": 10
        }
      ]
    },
    {
      "cell_type": "code",
      "metadata": {
        "id": "Cogy_t4kK7pB"
      },
      "source": [
        "train_dl=DeviceDataLoader(train_dl,device)\n",
        "valid_dl=DeviceDataLoader(valid_dl,device)"
      ],
      "execution_count": 11,
      "outputs": []
    },
    {
      "cell_type": "markdown",
      "metadata": {
        "id": "pJ2oh_iPOB-J"
      },
      "source": [
        "# Model with ResidualBlocks and Batch Normalization"
      ]
    },
    {
      "cell_type": "code",
      "metadata": {
        "id": "g8OgBD6dZEB3"
      },
      "source": [
        "def accuracy(outputs,labels):\n",
        "  _,preds=torch.max(outputs,dim=1)\n",
        "  return torch.tensor(torch.sum(preds==labels).item()/len(preds))\n",
        "\n",
        "class ImageClassificationBase(nn.Module):\n",
        "  def training_step(self,batch):\n",
        "    images,labels=batch\n",
        "    out=self(images)\n",
        "    loss=F.cross_entropy(out,labels)\n",
        "    return loss\n",
        "\n",
        "  def validation_step(self,batch):\n",
        "    images,labels=batch\n",
        "    out=self(images)\n",
        "    loss=F.cross_entropy(out,labels)\n",
        "    acc=accuracy(out,labels)\n",
        "    return {'val_loss':loss.detach(),'val_acc':acc}\n",
        "  \n",
        "  def validation_epoch_end(self,outputs):\n",
        "    batch_losses=[x['val_loss'] for x in outputs]\n",
        "    epoch_loss=torch.stack(batch_losses).mean() \n",
        "    batch_accs=[x['val_acc'] for x in outputs]\n",
        "    epoch_acc=torch.stack(batch_accs).mean()\n",
        "    return {'val_loss':epoch_loss.item(),'val_acc':epoch_acc.item()}\n",
        "\n",
        "  def epoch_end(self,epoch,result):\n",
        "    print(\"Epoch [{}],last_lr:{:.5f},train_loss: {:.4f}, val_acc:{:.4f}\".format(\n",
        "        epoch,result['lrs'][-1],result['train_loss'],result['val_loss'],result['val_acc'])) \n",
        "  \n",
        "  \n"
      ],
      "execution_count": 12,
      "outputs": []
    },
    {
      "cell_type": "code",
      "metadata": {
        "id": "buxC1tr4k7hq"
      },
      "source": [
        "def conv_block(in_channels,out_channels,pool=False):\n",
        "  layers=[nn.Conv2d(in_channels,out_channels,kernel_size=3,padding=1),\n",
        "          nn.BatchNorm2d(out_channels),\n",
        "          nn.ReLU(inplace=True)]\n",
        "  if pool: layers.append(nn.MaxPool2d(2))\n",
        "  return nn.Sequential(*layers)\n",
        "\n",
        "class ResNet9(ImageClassificationBase):\n",
        "  def __init__(self,in_channels,num_classes):\n",
        "    super().__init__()\n",
        "    self.conv1=conv_block(in_channels,64)\n",
        "    self.conv2=conv_block(64,128,pool=True)\n",
        "    self.res1=nn.Sequential(conv_block(128,128),conv_block(128,128))\n",
        "\n",
        "    self.conv3=conv_block(128,256,pool=True)\n",
        "    self.conv4=conv_block(256,512,pool=True)\n",
        "    self.res2=nn.Sequential(conv_block(512,512),conv_block(512,512))\n",
        "\n",
        "    self.classifier = nn.Sequential(nn.MaxPool2d(4), \n",
        "                                        nn.Flatten(), \n",
        "                                        nn.Dropout(0.2),\n",
        "                                        nn.Linear(512, num_classes))\n",
        "    \n",
        "  def forward(self,xb):\n",
        "    out=self.conv1(xb)\n",
        "    out=self.conv2(out)\n",
        "    out=self.res1(out)+out\n",
        "    out=self.conv3(out)\n",
        "    out=self.conv4(out)\n",
        "    out=self.res2(out)+out\n",
        "    out=self.classifier(out)\n",
        "    return out"
      ],
      "execution_count": 13,
      "outputs": []
    },
    {
      "cell_type": "code",
      "metadata": {
        "colab": {
          "base_uri": "https://localhost:8080/"
        },
        "id": "sHvlkZyp51U7",
        "outputId": "b9e8b67e-8670-42c0-bf56-325421901655"
      },
      "source": [
        "model=to_device(ResNet9(3,10),device)\n",
        "model"
      ],
      "execution_count": 14,
      "outputs": [
        {
          "output_type": "execute_result",
          "data": {
            "text/plain": [
              "ResNet9(\n",
              "  (conv1): Sequential(\n",
              "    (0): Conv2d(3, 64, kernel_size=(3, 3), stride=(1, 1), padding=(1, 1))\n",
              "    (1): BatchNorm2d(64, eps=1e-05, momentum=0.1, affine=True, track_running_stats=True)\n",
              "    (2): ReLU(inplace=True)\n",
              "  )\n",
              "  (conv2): Sequential(\n",
              "    (0): Conv2d(64, 128, kernel_size=(3, 3), stride=(1, 1), padding=(1, 1))\n",
              "    (1): BatchNorm2d(128, eps=1e-05, momentum=0.1, affine=True, track_running_stats=True)\n",
              "    (2): ReLU(inplace=True)\n",
              "    (3): MaxPool2d(kernel_size=2, stride=2, padding=0, dilation=1, ceil_mode=False)\n",
              "  )\n",
              "  (res1): Sequential(\n",
              "    (0): Sequential(\n",
              "      (0): Conv2d(128, 128, kernel_size=(3, 3), stride=(1, 1), padding=(1, 1))\n",
              "      (1): BatchNorm2d(128, eps=1e-05, momentum=0.1, affine=True, track_running_stats=True)\n",
              "      (2): ReLU(inplace=True)\n",
              "    )\n",
              "    (1): Sequential(\n",
              "      (0): Conv2d(128, 128, kernel_size=(3, 3), stride=(1, 1), padding=(1, 1))\n",
              "      (1): BatchNorm2d(128, eps=1e-05, momentum=0.1, affine=True, track_running_stats=True)\n",
              "      (2): ReLU(inplace=True)\n",
              "    )\n",
              "  )\n",
              "  (conv3): Sequential(\n",
              "    (0): Conv2d(128, 256, kernel_size=(3, 3), stride=(1, 1), padding=(1, 1))\n",
              "    (1): BatchNorm2d(256, eps=1e-05, momentum=0.1, affine=True, track_running_stats=True)\n",
              "    (2): ReLU(inplace=True)\n",
              "    (3): MaxPool2d(kernel_size=2, stride=2, padding=0, dilation=1, ceil_mode=False)\n",
              "  )\n",
              "  (conv4): Sequential(\n",
              "    (0): Conv2d(256, 512, kernel_size=(3, 3), stride=(1, 1), padding=(1, 1))\n",
              "    (1): BatchNorm2d(512, eps=1e-05, momentum=0.1, affine=True, track_running_stats=True)\n",
              "    (2): ReLU(inplace=True)\n",
              "    (3): MaxPool2d(kernel_size=2, stride=2, padding=0, dilation=1, ceil_mode=False)\n",
              "  )\n",
              "  (res2): Sequential(\n",
              "    (0): Sequential(\n",
              "      (0): Conv2d(512, 512, kernel_size=(3, 3), stride=(1, 1), padding=(1, 1))\n",
              "      (1): BatchNorm2d(512, eps=1e-05, momentum=0.1, affine=True, track_running_stats=True)\n",
              "      (2): ReLU(inplace=True)\n",
              "    )\n",
              "    (1): Sequential(\n",
              "      (0): Conv2d(512, 512, kernel_size=(3, 3), stride=(1, 1), padding=(1, 1))\n",
              "      (1): BatchNorm2d(512, eps=1e-05, momentum=0.1, affine=True, track_running_stats=True)\n",
              "      (2): ReLU(inplace=True)\n",
              "    )\n",
              "  )\n",
              "  (classifier): Sequential(\n",
              "    (0): MaxPool2d(kernel_size=4, stride=4, padding=0, dilation=1, ceil_mode=False)\n",
              "    (1): Flatten(start_dim=1, end_dim=-1)\n",
              "    (2): Dropout(p=0.2, inplace=False)\n",
              "    (3): Linear(in_features=512, out_features=10, bias=True)\n",
              "  )\n",
              ")"
            ]
          },
          "metadata": {
            "tags": []
          },
          "execution_count": 14
        }
      ]
    },
    {
      "cell_type": "code",
      "metadata": {
        "id": "Ue19wCjw7Uxz"
      },
      "source": [
        "@torch.no_grad()\n",
        "def evaluate(model,val_loader):\n",
        "  model.eval()\n",
        "  outputs=[model.validation_step(batch) for batch in val_loader]\n",
        "  return model.validation_epoch_end(outputs)\n",
        "\n",
        "def get_lr(optimizer):\n",
        "  for param_group in optimizer.param_groups:\n",
        "    return param_group['lr']\n",
        "\n",
        "def fit_one_cycle(epochs,max_lr,model,train_loader,val_loader,weight_decay=0,grad_clip=None,opt_func=torch.optim.SGD):\n",
        "  torch.cuda.empty_cache()\n",
        "  history=[]\n",
        "\n",
        "  # Set up cutom optimizer with weight decay\n",
        "  optimizer=opt_func(model.parameters(),max_lr,weight_decay=weight_decay)\n",
        "  # Set up one-cycle learning rate scheduler\n",
        "  sched = torch.optim.lr_scheduler.OneCycleLR(optimizer, max_lr, epochs=epochs, \n",
        "                                                steps_per_epoch=len(train_loader))\n",
        "  for epoch in range(epochs):\n",
        "    # Training Phase\n",
        "    model.train()\n",
        "    train_losses=[]\n",
        "    lrs=[]\n",
        "    for batch in train_loader:\n",
        "      loss=model.training_step(batch)\n",
        "      train_losses.append(loss)\n",
        "      loss.backward()\n",
        "\n",
        "      # Gradient clipping\n",
        "      if grad_clip: \n",
        "                nn.utils.clip_grad_value_(model.parameters(), grad_clip)\n",
        "\n",
        "      optimizer.step()\n",
        "      optimizer.zero_grad()\n",
        "\n",
        "      # Record & update learning rate\n",
        "      lrs.append(get_lr(optimizer))\n",
        "      sched.step()\n",
        "\n",
        "    # validation phase\n",
        "    result=evaluate(model,val_loader)\n",
        "    result['train_loss']=torch.stack(train_losses).mean().item()\n",
        "    result['lrs']=lrs\n",
        "    model.epoch_end(epoch,result)\n",
        "    history.append(result)\n",
        "  return history"
      ],
      "execution_count": 15,
      "outputs": []
    },
    {
      "cell_type": "code",
      "metadata": {
        "colab": {
          "base_uri": "https://localhost:8080/"
        },
        "id": "jvkCwngNEplR",
        "outputId": "e5ab225e-26c4-4bc7-ecbd-2c48bfa01941"
      },
      "source": [
        "history=[evaluate(model,valid_dl)]\n",
        "history"
      ],
      "execution_count": 16,
      "outputs": [
        {
          "output_type": "stream",
          "text": [
            "/usr/local/lib/python3.7/dist-packages/torch/utils/data/dataloader.py:477: UserWarning: This DataLoader will create 4 worker processes in total. Our suggested max number of worker in current system is 2, which is smaller than what this DataLoader is going to create. Please be aware that excessive worker creation might get DataLoader running slow or even freeze, lower the worker number to avoid potential slowness/freeze if necessary.\n",
            "  cpuset_checked))\n"
          ],
          "name": "stderr"
        },
        {
          "output_type": "execute_result",
          "data": {
            "text/plain": [
              "[{'val_acc': 0.10000000149011612, 'val_loss': 2.3026106357574463}]"
            ]
          },
          "metadata": {
            "tags": []
          },
          "execution_count": 16
        }
      ]
    },
    {
      "cell_type": "code",
      "metadata": {
        "id": "2CPLCktLEyYK"
      },
      "source": [
        "epochs = 8\n",
        "max_lr = 0.01\n",
        "grad_clip = 0.1\n",
        "weight_decay = 1e-4\n",
        "opt_func = torch.optim.Adam"
      ],
      "execution_count": 17,
      "outputs": []
    },
    {
      "cell_type": "code",
      "metadata": {
        "colab": {
          "base_uri": "https://localhost:8080/"
        },
        "id": "21NOlv1UE5Wa",
        "outputId": "1405196b-2944-4f6c-d0d9-949a11b5f774"
      },
      "source": [
        "%%time\n",
        "history += fit_one_cycle(epochs, max_lr, model, train_dl, valid_dl, \n",
        "                             grad_clip=grad_clip, \n",
        "                             weight_decay=weight_decay, \n",
        "                             opt_func=opt_func)"
      ],
      "execution_count": 18,
      "outputs": [
        {
          "output_type": "stream",
          "text": [
            "/usr/local/lib/python3.7/dist-packages/torch/utils/data/dataloader.py:477: UserWarning: This DataLoader will create 4 worker processes in total. Our suggested max number of worker in current system is 2, which is smaller than what this DataLoader is going to create. Please be aware that excessive worker creation might get DataLoader running slow or even freeze, lower the worker number to avoid potential slowness/freeze if necessary.\n",
            "  cpuset_checked))\n"
          ],
          "name": "stderr"
        },
        {
          "output_type": "stream",
          "text": [
            "Epoch [0],last_lr:0.00393,train_loss: 1.5337, val_acc:1.1779\n",
            "Epoch [1],last_lr:0.00935,train_loss: 1.0965, val_acc:1.2807\n",
            "Epoch [2],last_lr:0.00972,train_loss: 0.8435, val_acc:0.7366\n",
            "Epoch [3],last_lr:0.00812,train_loss: 0.6432, val_acc:0.8244\n",
            "Epoch [4],last_lr:0.00556,train_loss: 0.5179, val_acc:0.6787\n",
            "Epoch [5],last_lr:0.00283,train_loss: 0.4022, val_acc:0.4362\n",
            "Epoch [6],last_lr:0.00077,train_loss: 0.2978, val_acc:0.3118\n",
            "Epoch [7],last_lr:0.00000,train_loss: 0.2232, val_acc:0.2886\n",
            "CPU times: user 42.5 s, sys: 31.2 s, total: 1min 13s\n",
            "Wall time: 4min 13s\n"
          ],
          "name": "stdout"
        }
      ]
    },
    {
      "cell_type": "code",
      "metadata": {
        "id": "kSsroplFE9Nz"
      },
      "source": [
        "def plot_accuracies(history):\n",
        "    accuracies = [x['val_acc'] for x in history]\n",
        "    plt.plot(accuracies, '-x')\n",
        "    plt.xlabel('epoch')\n",
        "    plt.ylabel('accuracy')\n",
        "    plt.title('Accuracy vs. No. of epochs');"
      ],
      "execution_count": 19,
      "outputs": []
    },
    {
      "cell_type": "code",
      "metadata": {
        "colab": {
          "base_uri": "https://localhost:8080/",
          "height": 295
        },
        "id": "aWAgKxvYFEJR",
        "outputId": "832e7e02-9da1-4894-b15e-ada0897e6b70"
      },
      "source": [
        "plot_accuracies(history)"
      ],
      "execution_count": 20,
      "outputs": [
        {
          "output_type": "display_data",
          "data": {
            "image/png": "[encoded data removed]",
            "text/plain": [
              "<Figure size 432x288 with 1 Axes>"
            ]
          },
          "metadata": {
            "tags": [],
            "needs_background": "light"
          }
        }
      ]
    },
    {
      "cell_type": "code",
      "metadata": {
        "id": "fn5WAH3LFPB-"
      },
      "source": [
        "def plot_losses(history):\n",
        "    train_losses = [x.get('train_loss') for x in history]\n",
        "    val_losses = [x['val_loss'] for x in history]\n",
        "    plt.plot(train_losses, '-bx')\n",
        "    plt.plot(val_losses, '-rx')\n",
        "    plt.xlabel('epoch')\n",
        "    plt.ylabel('loss')\n",
        "    plt.legend(['Training', 'Validation'])\n",
        "    plt.title('Loss vs. No. of epochs');"
      ],
      "execution_count": 21,
      "outputs": []
    },
    {
      "cell_type": "code",
      "metadata": {
        "colab": {
          "base_uri": "https://localhost:8080/",
          "height": 295
        },
        "id": "qdqjjgi-H2It",
        "outputId": "97a9669a-6d05-473d-d1eb-a5f20b23b73f"
      },
      "source": [
        "plot_losses(history)"
      ],
      "execution_count": 22,
      "outputs": [
        {
          "output_type": "display_data",
          "data": {
            "image/png": "[encoded data removed]",
            "text/plain": [
              "<Figure size 432x288 with 1 Axes>"
            ]
          },
          "metadata": {
            "tags": [],
            "needs_background": "light"
          }
        }
      ]
    },
    {
      "cell_type": "code",
      "metadata": {
        "id": "stcRhHTNH6II"
      },
      "source": [
        "def plot_lrs(history):\n",
        "    lrs = np.concatenate([x.get('lrs', []) for x in history])\n",
        "    plt.plot(lrs)\n",
        "    plt.xlabel('Batch no.')\n",
        "    plt.ylabel('Learning rate')\n",
        "    plt.title('Learning Rate vs. Batch no.');"
      ],
      "execution_count": 23,
      "outputs": []
    },
    {
      "cell_type": "code",
      "metadata": {
        "colab": {
          "base_uri": "https://localhost:8080/",
          "height": 295
        },
        "id": "yD7rY0Hav0mw",
        "outputId": "24ad0d69-7a36-49ea-c299-f56e58ba85f1"
      },
      "source": [
        "plot_lrs(history)"
      ],
      "execution_count": 24,
      "outputs": [
        {
          "output_type": "display_data",
          "data": {
            "image/png": "[encoded data removed]",
            "text/plain": [
              "<Figure size 432x288 with 1 Axes>"
            ]
          },
          "metadata": {
            "tags": [],
            "needs_background": "light"
          }
        }
      ]
    },
    {
      "cell_type": "markdown",
      "metadata": {
        "id": "pJ5cuNYKygh_"
      },
      "source": [
        "# Test with individual image"
      ]
    },
    {
      "cell_type": "code",
      "metadata": {
        "id": "m6QH10Qev5H-"
      },
      "source": [
        "def predict_image(img, model):\n",
        "    # Convert to a batch of 1\n",
        "    xb = to_device(img.unsqueeze(0), device)\n",
        "    # Get predictions from model\n",
        "    yb = model(xb)\n",
        "    # Pick index with highest probability\n",
        "    _, preds  = torch.max(yb, dim=1)\n",
        "    # Retrieve the class label\n",
        "    return train_ds.classes[preds[0].item()]"
      ],
      "execution_count": 25,
      "outputs": []
    },
    {
      "cell_type": "code",
      "metadata": {
        "colab": {
          "base_uri": "https://localhost:8080/",
          "height": 283
        },
        "id": "ZAGAeXDN0fi5",
        "outputId": "d6490229-524e-4114-bf61-3fd2d5d65e1c"
      },
      "source": [
        "img, label = valid_ds[0]\n",
        "plt.imshow(img.permute(1, 2, 0).clamp(0, 1))\n",
        "print('Label:', train_ds.classes[label], ', Predicted:', predict_image(img, model))"
      ],
      "execution_count": 26,
      "outputs": [
        {
          "output_type": "stream",
          "text": [
            "Label: airplane , Predicted: airplane\n"
          ],
          "name": "stdout"
        },
        {
          "output_type": "display_data",
          "data": {
            "image/png": "[encoded data removed]",
            "text/plain": [
              "<Figure size 432x288 with 1 Axes>"
            ]
          },
          "metadata": {
            "tags": [],
            "needs_background": "light"
          }
        }
      ]
    },
    {
      "cell_type": "code",
      "metadata": {
        "colab": {
          "base_uri": "https://localhost:8080/",
          "height": 300
        },
        "id": "ox9KrLpL0iFk",
        "outputId": "2e2f957a-2c49-41ad-8797-1fad87962b3c"
      },
      "source": [
        "img, label = valid_ds[1002]\n",
        "plt.imshow(img.permute(1, 2, 0))\n",
        "print('Label:', valid_ds.classes[label], ', Predicted:', predict_image(img, model))"
      ],
      "execution_count": 27,
      "outputs": [
        {
          "output_type": "stream",
          "text": [
            "Clipping input data to the valid range for imshow with RGB data ([0..1] for floats or [0..255] for integers).\n"
          ],
          "name": "stderr"
        },
        {
          "output_type": "stream",
          "text": [
            "Label: automobile , Predicted: truck\n"
          ],
          "name": "stdout"
        },
        {
          "output_type": "display_data",
          "data": {
            "image/png": "[encoded data removed]",
            "text/plain": [
              "<Figure size 432x288 with 1 Axes>"
            ]
          },
          "metadata": {
            "tags": [],
            "needs_background": "light"
          }
        }
      ]
    },
    {
      "cell_type": "code",
      "metadata": {
        "colab": {
          "base_uri": "https://localhost:8080/",
          "height": 300
        },
        "id": "oDfAKLTU0lXe",
        "outputId": "ef87820d-1567-4a79-f6db-f116ebd48712"
      },
      "source": [
        "img, label = valid_ds[6153]\n",
        "plt.imshow(img.permute(1, 2, 0))\n",
        "print('Label:', train_ds.classes[label], ', Predicted:', predict_image(img, model))"
      ],
      "execution_count": 28,
      "outputs": [
        {
          "output_type": "stream",
          "text": [
            "Clipping input data to the valid range for imshow with RGB data ([0..1] for floats or [0..255] for integers).\n"
          ],
          "name": "stderr"
        },
        {
          "output_type": "stream",
          "text": [
            "Label: frog , Predicted: frog\n"
          ],
          "name": "stdout"
        },
        {
          "output_type": "display_data",
          "data": {
            "image/png": "[encoded data removed]",
            "text/plain": [
              "<Figure size 432x288 with 1 Axes>"
            ]
          },
          "metadata": {
            "tags": [],
            "needs_background": "light"
          }
        }
      ]
    },
    {
      "cell_type": "code",
      "metadata": {
        "id": "WNncWWmD0uqF"
      },
      "source": [
        "torch.save(model.state_dict(), 'cifar10-resnet9.pth')"
      ],
      "execution_count": 29,
      "outputs": []
    },
    {
      "cell_type": "code",
      "metadata": {
        "id": "dR-dhFYi0yoq"
      },
      "source": [
        ""
      ],
      "execution_count": null,
      "outputs": []
    }
  ]
}